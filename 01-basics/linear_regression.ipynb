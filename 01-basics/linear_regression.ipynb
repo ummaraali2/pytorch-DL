{
  "nbformat": 4,
  "nbformat_minor": 0,
  "metadata": {
    "colab": {
      "provenance": []
    },
    "kernelspec": {
      "name": "python3",
      "display_name": "Python 3"
    },
    "language_info": {
      "name": "python"
    }
  },
  "cells": [
    {
      "cell_type": "markdown",
      "source": [
        "# Linear Regression"
      ],
      "metadata": {
        "id": "MLNF-QKb8LJ3"
      }
    },
    {
      "cell_type": "code",
      "source": [
        "import torch\n",
        "import torch.nn as nn\n",
        "import numpy as np\n",
        "import matplotlib.pyplot as plt"
      ],
      "metadata": {
        "id": "_7qhb7zP8ShY"
      },
      "execution_count": 173,
      "outputs": []
    },
    {
      "cell_type": "markdown",
      "source": [
        "here we give input size as 1 and output size as 1\n",
        "epochs is basically the number of times our train will loop\n",
        "learning rate determines the size of the step taken during optimization.\n",
        "if the predicted value is way diff then it will take time to get to the actual value if the learning rate is too small.\n",
        "\n",
        "Too big a step, and it might skip the best answer. Too small, and it might take forever to learn. It's about finding the right step size for your model to learn efficiently."
      ],
      "metadata": {
        "id": "SeiQYpDVSLA9"
      }
    },
    {
      "cell_type": "code",
      "source": [
        "inputs = 1\n",
        "outputs = 1\n",
        "epochs = 60\n",
        "learning_rate = 0.01"
      ],
      "metadata": {
        "id": "ORyigzod8bmy"
      },
      "execution_count": 174,
      "outputs": []
    },
    {
      "cell_type": "code",
      "source": [
        "x_train = np.array([[3.3], [4.4], [5.5], [6.71], [6.93], [4.168],\n",
        "                    [9.779], [6.182], [7.59], [2.167], [7.042],\n",
        "                    [10.791], [5.313], [7.997], [3.1]], dtype=np.float32)\n",
        "\n",
        "y_train = np.array([[1.7], [2.76], [2.09], [3.19], [1.694], [1.573],\n",
        "                    [3.366], [2.596], [2.53], [1.221], [2.827],\n",
        "                    [3.465], [1.65], [2.904], [1.3]], dtype=np.float32)\n",
        "\n"
      ],
      "metadata": {
        "id": "vPPSHgti8ljU"
      },
      "execution_count": 175,
      "outputs": []
    },
    {
      "cell_type": "markdown",
      "source": [
        "Now building the nn, defining loss, and optimizer."
      ],
      "metadata": {
        "id": "b13K52EjUzBb"
      }
    },
    {
      "cell_type": "code",
      "source": [
        "# Linear regression model\n",
        "model = nn.Linear(inputs,outputs)\n",
        "\n",
        "#loss and optimizer\n",
        "criterion = nn.MSELoss()\n",
        "optimizer = torch.optim.SGD(model.parameters(), lr=learning_rate)"
      ],
      "metadata": {
        "id": "ldNIzIHc-Rbq"
      },
      "execution_count": 176,
      "outputs": []
    },
    {
      "cell_type": "markdown",
      "source": [
        "this is finally our training loop..\n",
        "\n",
        "we perform: forward pass, calculaate loss, loss backward, and then optimize.\n",
        "\n",
        "Forward pass: passing input data through the model to generate predictions.\n",
        "\n",
        "Loss: measures the difference between predictions and actual targets or actual values.\n",
        "\n",
        "Loss Backwards: the model's parameters are updated based on the gradients of the loss with respect to the parameters.\n",
        "\n",
        "Optimize: Adjusts the parameters using an optimization algorithm (here, gradient descent) to minimize the loss and improve the model's performance."
      ],
      "metadata": {
        "id": "LrddQPc5U6la"
      }
    },
    {
      "cell_type": "code",
      "source": [
        "from torch.optim.lr_scheduler import StepLR\n",
        "\n",
        "\n",
        "for epoch in range(epochs):\n",
        "  input = torch.from_numpy(x_train)\n",
        "  target = torch.from_numpy(y_train)\n",
        "\n",
        "  # forward pass\n",
        "  output = model(input)\n",
        "  loss = criterion(output, target)\n",
        "\n",
        "  # backward pass and optimiz\n",
        "  loss.backward()\n",
        "\n",
        "  optimizer.step()\n",
        "\n",
        "  if(epoch+1)%5==0:\n",
        "    print('epoch [{}/{}], loss: {:4f}'.format(epoch+1, epochs, loss.item()))"
      ],
      "metadata": {
        "colab": {
          "base_uri": "https://localhost:8080/"
        },
        "id": "QMRXhpdOBHH4",
        "outputId": "3482fb49-762e-4e27-86a0-a9ac2d8b7bd6"
      },
      "execution_count": 177,
      "outputs": [
        {
          "output_type": "stream",
          "name": "stdout",
          "text": [
            "epoch [5/60], loss: 4.484053\n",
            "epoch [10/60], loss: 3.251256\n",
            "epoch [15/60], loss: 2.234414\n",
            "epoch [20/60], loss: 1.433514\n",
            "epoch [25/60], loss: 0.848512\n",
            "epoch [30/60], loss: 0.479305\n",
            "epoch [35/60], loss: 0.325278\n",
            "epoch [40/60], loss: 0.312601\n",
            "epoch [45/60], loss: 0.300594\n",
            "epoch [50/60], loss: 0.287467\n",
            "epoch [55/60], loss: 0.275576\n",
            "epoch [60/60], loss: 0.264165\n"
          ]
        }
      ]
    },
    {
      "cell_type": "code",
      "source": [
        "print(\"Predictions:\", output.detach().numpy())\n",
        "print(\"Targets:\", target.numpy())\n"
      ],
      "metadata": {
        "colab": {
          "base_uri": "https://localhost:8080/"
        },
        "id": "xO4dw3ohQIK8",
        "outputId": "c1f35154-ea75-4099-c9af-b6b73ee283f5"
      },
      "execution_count": 178,
      "outputs": [
        {
          "output_type": "stream",
          "name": "stdout",
          "text": [
            "Predictions: [[1.1558547]\n",
            " [1.5760919]\n",
            " [1.9963291]\n",
            " [2.4585898]\n",
            " [2.542637 ]\n",
            " [1.4874601]\n",
            " [3.6310515]\n",
            " [2.256876 ]\n",
            " [2.7947795]\n",
            " [0.7230104]\n",
            " [2.585425 ]\n",
            " [4.0176697]\n",
            " [1.9248888]\n",
            " [2.9502673]\n",
            " [1.0794479]]\n",
            "Targets: [[1.7  ]\n",
            " [2.76 ]\n",
            " [2.09 ]\n",
            " [3.19 ]\n",
            " [1.694]\n",
            " [1.573]\n",
            " [3.366]\n",
            " [2.596]\n",
            " [2.53 ]\n",
            " [1.221]\n",
            " [2.827]\n",
            " [3.465]\n",
            " [1.65 ]\n",
            " [2.904]\n",
            " [1.3  ]]\n"
          ]
        }
      ]
    },
    {
      "cell_type": "code",
      "source": [
        "predicted = model(torch.from_numpy(x_train)).detach().numpy()\n",
        "plt.plot(x_train, y_train, 'ro', label = 'original data')\n",
        "plt.plot(x_train, predicted, label='Fitted line')\n",
        "plt.legend()\n",
        "plt.show()"
      ],
      "metadata": {
        "colab": {
          "base_uri": "https://localhost:8080/",
          "height": 430
        },
        "id": "ykbTRoX_Cc3f",
        "outputId": "d4b4df72-8d18-4937-bac9-5af3639eacbc"
      },
      "execution_count": 179,
      "outputs": [
        {
          "output_type": "display_data",
          "data": {
            "text/plain": [
              "<Figure size 640x480 with 1 Axes>"
            ],
            "image/png": "[encoded data removed]"
          },
          "metadata": {}
        }
      ]
    },
    {
      "cell_type": "code",
      "source": [
        "torch.save(model.state_dict(), 'model.ckpt')"
      ],
      "metadata": {
        "id": "zgeWOTTAC_JK"
      },
      "execution_count": 180,
      "outputs": []
    }
  ]
}