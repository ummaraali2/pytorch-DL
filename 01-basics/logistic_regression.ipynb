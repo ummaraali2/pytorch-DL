{
  "nbformat": 4,
  "nbformat_minor": 0,
  "metadata": {
    "colab": {
      "provenance": []
    },
    "kernelspec": {
      "name": "python3",
      "display_name": "Python 3"
    },
    "language_info": {
      "name": "python"
    }
  },
  "cells": [
    {
      "cell_type": "code",
      "execution_count": 9,
      "metadata": {
        "id": "OsOy1SImxqv_"
      },
      "outputs": [],
      "source": [
        "import torch\n",
        "import torch.nn as nn\n",
        "import torchvision\n",
        "import torchvision.transforms as transforms"
      ]
    },
    {
      "cell_type": "code",
      "source": [
        "input_size = 28 * 28  # 784\n",
        "num_classes = 10\n",
        "num_epochs = 5\n",
        "batch_size = 100\n",
        "learning_rate = 0.001"
      ],
      "metadata": {
        "id": "Scp6mihkyEDd"
      },
      "execution_count": 33,
      "outputs": []
    },
    {
      "cell_type": "code",
      "source": [
        "train_dataset = torchvision.datasets.MNIST(root='../../data',\n",
        "                                           train=True,\n",
        "                                           transform=transforms.ToTensor(),\n",
        "                                           download=True)\n",
        "\n",
        "test_dataset = torchvision.datasets.MNIST(root='../../data',\n",
        "                                          train=False,\n",
        "                                          transform=transforms.ToTensor())\n",
        "\n",
        "# Data loader (input pipeline)\n",
        "train_loader = torch.utils.data.DataLoader(dataset=train_dataset,\n",
        "                                           batch_size=batch_size,\n",
        "                                           shuffle=True)\n",
        "\n",
        "test_loader = torch.utils.data.DataLoader(dataset=test_dataset,\n",
        "                                          batch_size=batch_size,\n",
        "                                          shuffle=False)"
      ],
      "metadata": {
        "id": "Nipm0ajOybaR"
      },
      "execution_count": 34,
      "outputs": []
    },
    {
      "cell_type": "code",
      "source": [
        "# Logistic regression model\n",
        "model = nn.Linear(input_size, num_classes)\n",
        "\n",
        "# Loss and optimizer\n",
        "# nn.CrossEntropyLoss() computes softmax internally\n",
        "criterion = nn.CrossEntropyLoss()\n",
        "optimizer = torch.optim.SGD(model.parameters(), lr=learning_rate)"
      ],
      "metadata": {
        "id": "0sLdlhhx26_Q"
      },
      "execution_count": 35,
      "outputs": []
    },
    {
      "cell_type": "code",
      "source": [
        "# Train the model\n",
        "total_step = len(train_loader)\n",
        "for epoch in range(num_epochs):\n",
        "    for i, (images, labels) in enumerate(train_loader):\n",
        "        # Reshape images to (batch_size, input_size)\n",
        "        images = images.reshape(-1, input_size)\n",
        "\n",
        "        # Forward pass\n",
        "        outputs = model(images)\n",
        "        loss = criterion(outputs, labels)\n",
        "\n",
        "        # Backward and optimize\n",
        "        optimizer.zero_grad()\n",
        "        loss.backward()\n",
        "        optimizer.step()\n",
        "\n",
        "        if (i+1) % 100 == 0:\n",
        "            print ('Epoch [{}/{}], Step [{}/{}], Loss: {:.4f}'\n",
        "                   .format(epoch+1, num_epochs, i+1, total_step, loss.item()))\n"
      ],
      "metadata": {
        "colab": {
          "base_uri": "https://localhost:8080/"
        },
        "id": "nzqdcB5iy1Ud",
        "outputId": "78d8a113-6470-4db9-a8e3-0edac0dd33e3"
      },
      "execution_count": 18,
      "outputs": [
        {
          "output_type": "stream",
          "name": "stdout",
          "text": [
            "Epoch [1/5], Step [100/600], Loss: 1.6154\n",
            "Epoch [1/5], Step [200/600], Loss: 1.3078\n",
            "Epoch [1/5], Step [300/600], Loss: 0.9858\n",
            "Epoch [1/5], Step [400/600], Loss: 0.9262\n",
            "Epoch [1/5], Step [500/600], Loss: 0.7942\n",
            "Epoch [1/5], Step [600/600], Loss: 0.8555\n",
            "Epoch [2/5], Step [100/600], Loss: 0.6789\n",
            "Epoch [2/5], Step [200/600], Loss: 0.6343\n",
            "Epoch [2/5], Step [300/600], Loss: 0.6575\n",
            "Epoch [2/5], Step [400/600], Loss: 0.4808\n",
            "Epoch [2/5], Step [500/600], Loss: 0.6328\n",
            "Epoch [2/5], Step [600/600], Loss: 0.6179\n",
            "Epoch [3/5], Step [100/600], Loss: 0.4855\n",
            "Epoch [3/5], Step [200/600], Loss: 0.4724\n",
            "Epoch [3/5], Step [300/600], Loss: 0.4958\n",
            "Epoch [3/5], Step [400/600], Loss: 0.5657\n",
            "Epoch [3/5], Step [500/600], Loss: 0.5661\n",
            "Epoch [3/5], Step [600/600], Loss: 0.5486\n",
            "Epoch [4/5], Step [100/600], Loss: 0.5688\n",
            "Epoch [4/5], Step [200/600], Loss: 0.4450\n",
            "Epoch [4/5], Step [300/600], Loss: 0.4754\n",
            "Epoch [4/5], Step [400/600], Loss: 0.4378\n",
            "Epoch [4/5], Step [500/600], Loss: 0.3530\n",
            "Epoch [4/5], Step [600/600], Loss: 0.4154\n",
            "Epoch [5/5], Step [100/600], Loss: 0.3567\n",
            "Epoch [5/5], Step [200/600], Loss: 0.4725\n",
            "Epoch [5/5], Step [300/600], Loss: 0.3712\n",
            "Epoch [5/5], Step [400/600], Loss: 0.4664\n",
            "Epoch [5/5], Step [500/600], Loss: 0.3651\n",
            "Epoch [5/5], Step [600/600], Loss: 0.5030\n"
          ]
        }
      ]
    },
    {
      "cell_type": "code",
      "source": [
        "# Test the model\n",
        "# In test phase, we don't need to compute gradients (for memory efficiency)\n",
        "with torch.no_grad():\n",
        "    correct = 0\n",
        "    total = 0\n",
        "    for images, labels in test_loader:\n",
        "        images = images.reshape(-1, input_size)\n",
        "        outputs = model(images)\n",
        "        _, predicted = torch.max(outputs.data, 1)\n",
        "        total += labels.size(0)\n",
        "        correct += (predicted == labels).sum()\n",
        "\n",
        "    print('Accuracy of the model on the 10000 test images: {} %'.format(100 * correct / total))\n"
      ],
      "metadata": {
        "colab": {
          "base_uri": "https://localhost:8080/"
        },
        "id": "5QWQgxHXy3gU",
        "outputId": "df7e8525-6abf-4722-cf32-e312d060897e"
      },
      "execution_count": 37,
      "outputs": [
        {
          "output_type": "stream",
          "name": "stdout",
          "text": [
            "Accuracy of the model on the 10000 test images: 82.98999786376953 %\n"
          ]
        }
      ]
    }
  ]
}