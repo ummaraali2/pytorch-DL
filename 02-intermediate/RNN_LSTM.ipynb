{
  "nbformat": 4,
  "nbformat_minor": 0,
  "metadata": {
    "colab": {
      "provenance": [],
      "gpuType": "T4"
    },
    "kernelspec": {
      "name": "python3",
      "display_name": "Python 3"
    },
    "language_info": {
      "name": "python"
    },
    "accelerator": "GPU"
  },
  "cells": [
    {
      "cell_type": "code",
      "execution_count": 1,
      "metadata": {
        "id": "47sOk_PiMhic"
      },
      "outputs": [],
      "source": [
        "import torch\n",
        "import torch.nn as nn\n",
        "import torchvision\n",
        "import torchvision.transforms as transforms\n"
      ]
    },
    {
      "cell_type": "code",
      "source": [
        "device = torch.device('cuda' if torch.cuda.is_available() else 'cpu')"
      ],
      "metadata": {
        "id": "qkQSwprMMqM8"
      },
      "execution_count": 2,
      "outputs": []
    },
    {
      "cell_type": "code",
      "source": [
        "sequence_length = 28\n",
        "input_size = 28\n",
        "hidden_size = 128\n",
        "num_layers = 2\n",
        "num_classes = 10\n",
        "batch_size = 100\n",
        "num_epochs = 15\n",
        "learning_rate = 0.0001\n",
        "dropout_prob = 0.5\n"
      ],
      "metadata": {
        "id": "NzVwLjbbMy4Y"
      },
      "execution_count": 53,
      "outputs": []
    },
    {
      "cell_type": "code",
      "source": [
        "train_dataset = torchvision.datasets.MNIST(root='../../data/',\n",
        "                                           train=True,\n",
        "                                           transform=transforms.ToTensor(),\n",
        "                                           download=True)\n",
        "\n",
        "test_dataset = torchvision.datasets.MNIST(root='../../data/',\n",
        "                                          train=False,\n",
        "                                          transform=transforms.ToTensor())\n",
        "\n",
        "# Data loader\n",
        "train_loader = torch.utils.data.DataLoader(dataset=train_dataset,\n",
        "                                           batch_size=batch_size,\n",
        "                                           shuffle=True)\n",
        "\n",
        "test_loader = torch.utils.data.DataLoader(dataset=test_dataset,\n",
        "                                          batch_size=batch_size,\n",
        "                                          shuffle=False)\n"
      ],
      "metadata": {
        "colab": {
          "base_uri": "https://localhost:8080/"
        },
        "id": "2i_BZm7YQB3W",
        "outputId": "9d950202-d2f2-49a7-d88e-81286b2c23e3"
      },
      "execution_count": 4,
      "outputs": [
        {
          "output_type": "stream",
          "name": "stdout",
          "text": [
            "Downloading http://yann.lecun.com/exdb/mnist/train-images-idx3-ubyte.gz\n",
            "Downloading http://yann.lecun.com/exdb/mnist/train-images-idx3-ubyte.gz to ../../data/MNIST/raw/train-images-idx3-ubyte.gz\n"
          ]
        },
        {
          "output_type": "stream",
          "name": "stderr",
          "text": [
            "100%|██████████| 9912422/9912422 [00:00<00:00, 137607316.13it/s]"
          ]
        },
        {
          "output_type": "stream",
          "name": "stdout",
          "text": [
            "Extracting ../../data/MNIST/raw/train-images-idx3-ubyte.gz to ../../data/MNIST/raw\n"
          ]
        },
        {
          "output_type": "stream",
          "name": "stderr",
          "text": [
            "\n"
          ]
        },
        {
          "output_type": "stream",
          "name": "stdout",
          "text": [
            "\n",
            "Downloading http://yann.lecun.com/exdb/mnist/train-labels-idx1-ubyte.gz\n",
            "Downloading http://yann.lecun.com/exdb/mnist/train-labels-idx1-ubyte.gz to ../../data/MNIST/raw/train-labels-idx1-ubyte.gz\n"
          ]
        },
        {
          "output_type": "stream",
          "name": "stderr",
          "text": [
            "100%|██████████| 28881/28881 [00:00<00:00, 23210518.07it/s]\n"
          ]
        },
        {
          "output_type": "stream",
          "name": "stdout",
          "text": [
            "Extracting ../../data/MNIST/raw/train-labels-idx1-ubyte.gz to ../../data/MNIST/raw\n",
            "\n",
            "Downloading http://yann.lecun.com/exdb/mnist/t10k-images-idx3-ubyte.gz\n",
            "Downloading http://yann.lecun.com/exdb/mnist/t10k-images-idx3-ubyte.gz to ../../data/MNIST/raw/t10k-images-idx3-ubyte.gz\n"
          ]
        },
        {
          "output_type": "stream",
          "name": "stderr",
          "text": [
            "100%|██████████| 1648877/1648877 [00:00<00:00, 43910142.77it/s]"
          ]
        },
        {
          "output_type": "stream",
          "name": "stdout",
          "text": [
            "Extracting ../../data/MNIST/raw/t10k-images-idx3-ubyte.gz to ../../data/MNIST/raw\n"
          ]
        },
        {
          "output_type": "stream",
          "name": "stderr",
          "text": [
            "\n"
          ]
        },
        {
          "output_type": "stream",
          "name": "stdout",
          "text": [
            "\n",
            "Downloading http://yann.lecun.com/exdb/mnist/t10k-labels-idx1-ubyte.gz\n",
            "Downloading http://yann.lecun.com/exdb/mnist/t10k-labels-idx1-ubyte.gz to ../../data/MNIST/raw/t10k-labels-idx1-ubyte.gz\n"
          ]
        },
        {
          "output_type": "stream",
          "name": "stderr",
          "text": [
            "100%|██████████| 4542/4542 [00:00<00:00, 3433765.10it/s]\n"
          ]
        },
        {
          "output_type": "stream",
          "name": "stdout",
          "text": [
            "Extracting ../../data/MNIST/raw/t10k-labels-idx1-ubyte.gz to ../../data/MNIST/raw\n",
            "\n"
          ]
        }
      ]
    },
    {
      "cell_type": "markdown",
      "source": [
        "Here we're using lstm\n",
        "\n",
        "The LSTM uses a set of gates (input gate, forget gate, and output gate) to selectively update the hidden state. The updating process allows the model to decide what information to retain or forget from the current input and past hidden state.\n",
        "\n",
        "The linear layer takes the hidden state of the last time step from the LSTM and transforms it to the output space.\n",
        "\n",
        "What uniquely happens is, while each hidden state consists of weights that are updated based on previous outputs...and this helps the model retain the important information that passes on to the linear layer.\n",
        "\n",
        "This learning process enables the model to assign higher importance (weights) to features that are relevant for the task, helping the model retain important information and make informed decisions.\n",
        "\n",
        "LEARN MORE ABOUT RNN...."
      ],
      "metadata": {
        "id": "cRe7eF3BAPmn"
      }
    },
    {
      "cell_type": "code",
      "source": [
        "class RNN(nn.Module):\n",
        "  def __init__(self, input_size, hidden_size, num_layers, num_classes):\n",
        "    super(RNN, self).__init__()\n",
        "    self.hidden_size = hidden_size\n",
        "    self.num_layers = num_layers\n",
        "    self.lstm = nn.LSTM(input_size, hidden_size, num_layers, batch_first=True)\n",
        "    self.fc = nn.Linear(hidden_size, num_classes)\n",
        "    self.dropout = nn.Dropout(dropout_prob)\n",
        "  def forward(self, x):\n",
        "\n",
        "    h0 = torch.zeros(self.num_layers, x.size(0), self.hidden_size).to(device)\n",
        "    c0 = torch.zeros(self.num_layers, x.size(0),self.hidden_size).to(device)\n",
        "\n",
        "    out, _ = self.lstm(x, (h0, c0))\n",
        "    out = self.dropout(out)\n",
        "\n",
        "    out = self.fc(out[:, -1, :])\n",
        "    return out\n",
        "\n",
        "model = RNN(input_size, hidden_size, num_layers, num_classes).to(device)\n",
        "\n",
        "criterion = nn.CrossEntropyLoss()\n",
        "optimizer = torch.optim.Adam(model.parameters(), lr=learning_rate)\n",
        "\n"
      ],
      "metadata": {
        "id": "JhZf1H1-QJc7"
      },
      "execution_count": 54,
      "outputs": []
    },
    {
      "cell_type": "code",
      "source": [
        "total_step = len(train_loader)\n",
        "for epoch in range(num_epochs):\n",
        "  for i, (images, labels) in enumerate(train_loader):\n",
        "    images = images.reshape(-1, sequence_length, input_size).to(device)\n",
        "    labels = labels.to(device)\n",
        "\n",
        "    # forward pass\n",
        "    outputs= model(images)\n",
        "    loss = criterion(outputs, labels)\n",
        "\n",
        "    # backward adnd optimize\n",
        "    outputs = model(images)\n",
        "    loss.backward()\n",
        "    optimizer.step()\n",
        "\n",
        "    if(i+1)%100 == 0:\n",
        "      print ('Epoch [{}/{}], Step [{}/{}], Loss: {:.4f}'\n",
        "                   .format(epoch+1, num_epochs, i+1, total_step, loss.item()))\n",
        "\n"
      ],
      "metadata": {
        "colab": {
          "base_uri": "https://localhost:8080/"
        },
        "id": "Nddp9ZNiNqm-",
        "outputId": "eff1e0c8-b177-438b-e2cd-626471cb2301"
      },
      "execution_count": 55,
      "outputs": [
        {
          "output_type": "stream",
          "name": "stdout",
          "text": [
            "Epoch [1/15], Step [100/600], Loss: 2.1955\n",
            "Epoch [1/15], Step [200/600], Loss: 1.8800\n",
            "Epoch [1/15], Step [300/600], Loss: 1.6854\n",
            "Epoch [1/15], Step [400/600], Loss: 1.7076\n",
            "Epoch [1/15], Step [500/600], Loss: 1.7873\n",
            "Epoch [1/15], Step [600/600], Loss: 1.3335\n",
            "Epoch [2/15], Step [100/600], Loss: 1.5284\n",
            "Epoch [2/15], Step [200/600], Loss: 1.3467\n",
            "Epoch [2/15], Step [300/600], Loss: 1.0718\n",
            "Epoch [2/15], Step [400/600], Loss: 1.0585\n",
            "Epoch [2/15], Step [500/600], Loss: 0.6676\n",
            "Epoch [2/15], Step [600/600], Loss: 0.8675\n",
            "Epoch [3/15], Step [100/600], Loss: 0.6389\n",
            "Epoch [3/15], Step [200/600], Loss: 0.4492\n",
            "Epoch [3/15], Step [300/600], Loss: 0.6394\n",
            "Epoch [3/15], Step [400/600], Loss: 0.7350\n",
            "Epoch [3/15], Step [500/600], Loss: 0.6075\n",
            "Epoch [3/15], Step [600/600], Loss: 0.5168\n",
            "Epoch [4/15], Step [100/600], Loss: 0.8979\n",
            "Epoch [4/15], Step [200/600], Loss: 0.6162\n",
            "Epoch [4/15], Step [300/600], Loss: 0.3616\n",
            "Epoch [4/15], Step [400/600], Loss: 0.6315\n",
            "Epoch [4/15], Step [500/600], Loss: 0.4583\n",
            "Epoch [4/15], Step [600/600], Loss: 0.6595\n",
            "Epoch [5/15], Step [100/600], Loss: 0.6185\n",
            "Epoch [5/15], Step [200/600], Loss: 0.4114\n",
            "Epoch [5/15], Step [300/600], Loss: 0.4201\n",
            "Epoch [5/15], Step [400/600], Loss: 0.2755\n",
            "Epoch [5/15], Step [500/600], Loss: 0.3680\n",
            "Epoch [5/15], Step [600/600], Loss: 0.4199\n",
            "Epoch [6/15], Step [100/600], Loss: 0.2688\n",
            "Epoch [6/15], Step [200/600], Loss: 0.2003\n",
            "Epoch [6/15], Step [300/600], Loss: 0.2613\n",
            "Epoch [6/15], Step [400/600], Loss: 0.2279\n",
            "Epoch [6/15], Step [500/600], Loss: 0.1884\n",
            "Epoch [6/15], Step [600/600], Loss: 0.2288\n",
            "Epoch [7/15], Step [100/600], Loss: 0.3331\n",
            "Epoch [7/15], Step [200/600], Loss: 0.3967\n",
            "Epoch [7/15], Step [300/600], Loss: 0.1631\n",
            "Epoch [7/15], Step [400/600], Loss: 0.2125\n",
            "Epoch [7/15], Step [500/600], Loss: 0.0926\n",
            "Epoch [7/15], Step [600/600], Loss: 0.2403\n",
            "Epoch [8/15], Step [100/600], Loss: 0.1969\n",
            "Epoch [8/15], Step [200/600], Loss: 0.1462\n",
            "Epoch [8/15], Step [300/600], Loss: 0.1331\n",
            "Epoch [8/15], Step [400/600], Loss: 0.2108\n",
            "Epoch [8/15], Step [500/600], Loss: 0.2362\n",
            "Epoch [8/15], Step [600/600], Loss: 0.0814\n",
            "Epoch [9/15], Step [100/600], Loss: 0.3181\n",
            "Epoch [9/15], Step [200/600], Loss: 0.1116\n",
            "Epoch [9/15], Step [300/600], Loss: 0.2159\n",
            "Epoch [9/15], Step [400/600], Loss: 0.0803\n",
            "Epoch [9/15], Step [500/600], Loss: 0.0591\n",
            "Epoch [9/15], Step [600/600], Loss: 0.0954\n",
            "Epoch [10/15], Step [100/600], Loss: 0.0897\n",
            "Epoch [10/15], Step [200/600], Loss: 0.2456\n",
            "Epoch [10/15], Step [300/600], Loss: 0.0754\n",
            "Epoch [10/15], Step [400/600], Loss: 0.1926\n",
            "Epoch [10/15], Step [500/600], Loss: 0.3131\n",
            "Epoch [10/15], Step [600/600], Loss: 0.0583\n",
            "Epoch [11/15], Step [100/600], Loss: 0.0735\n",
            "Epoch [11/15], Step [200/600], Loss: 0.0643\n",
            "Epoch [11/15], Step [300/600], Loss: 0.1459\n",
            "Epoch [11/15], Step [400/600], Loss: 0.0481\n",
            "Epoch [11/15], Step [500/600], Loss: 0.0650\n",
            "Epoch [11/15], Step [600/600], Loss: 0.0088\n",
            "Epoch [12/15], Step [100/600], Loss: 0.0875\n",
            "Epoch [12/15], Step [200/600], Loss: 0.0303\n",
            "Epoch [12/15], Step [300/600], Loss: 0.0504\n",
            "Epoch [12/15], Step [400/600], Loss: 0.1544\n",
            "Epoch [12/15], Step [500/600], Loss: 0.1781\n",
            "Epoch [12/15], Step [600/600], Loss: 0.0998\n",
            "Epoch [13/15], Step [100/600], Loss: 0.0305\n",
            "Epoch [13/15], Step [200/600], Loss: 0.1076\n",
            "Epoch [13/15], Step [300/600], Loss: 0.1160\n",
            "Epoch [13/15], Step [400/600], Loss: 0.0965\n",
            "Epoch [13/15], Step [500/600], Loss: 0.1361\n",
            "Epoch [13/15], Step [600/600], Loss: 0.0512\n",
            "Epoch [14/15], Step [100/600], Loss: 0.1249\n",
            "Epoch [14/15], Step [200/600], Loss: 0.0669\n",
            "Epoch [14/15], Step [300/600], Loss: 0.0252\n",
            "Epoch [14/15], Step [400/600], Loss: 0.0942\n",
            "Epoch [14/15], Step [500/600], Loss: 0.0418\n",
            "Epoch [14/15], Step [600/600], Loss: 0.0798\n",
            "Epoch [15/15], Step [100/600], Loss: 0.0871\n",
            "Epoch [15/15], Step [200/600], Loss: 0.1321\n",
            "Epoch [15/15], Step [300/600], Loss: 0.1380\n",
            "Epoch [15/15], Step [400/600], Loss: 0.1087\n",
            "Epoch [15/15], Step [500/600], Loss: 0.1208\n",
            "Epoch [15/15], Step [600/600], Loss: 0.1807\n"
          ]
        }
      ]
    },
    {
      "cell_type": "code",
      "source": [
        "model.eval()\n",
        "with torch.no_grad():\n",
        "  correct = 0\n",
        "  total = 0\n",
        "  for images, labels in test_loader:\n",
        "    images = images.reshape(-1, sequence_length, input_size).to(device)\n",
        "    labels = labels.to(device)\n",
        "    outputs = model(images)\n",
        "    _, predicted = torch.max(outputs.data, 1)\n",
        "    total += labels.size(0)\n",
        "    correct += (predicted == labels).sum().item()\n",
        "\n",
        "print('Test Accuracy of the model on the 10000 test images: {} %'.format(100 * correct / total))\n"
      ],
      "metadata": {
        "colab": {
          "base_uri": "https://localhost:8080/"
        },
        "id": "yh90-tXFOz6K",
        "outputId": "fc4cdd49-deb6-4562-f227-bed800fcdac0"
      },
      "execution_count": 56,
      "outputs": [
        {
          "output_type": "stream",
          "name": "stdout",
          "text": [
            "Test Accuracy of the model on the 10000 test images: 97.44 %\n"
          ]
        }
      ]
    },
    {
      "cell_type": "code",
      "source": [],
      "metadata": {
        "id": "wAafF7vsP5dl"
      },
      "execution_count": null,
      "outputs": []
    }
  ]
}